{
  "nbformat": 4,
  "nbformat_minor": 0,
  "metadata": {
    "colab": {
      "provenance": [],
      "authorship_tag": "ABX9TyPwe8Vu3RcKFeo1oTno7Ooi",
      "include_colab_link": true
    },
    "kernelspec": {
      "name": "python3",
      "display_name": "Python 3"
    },
    "language_info": {
      "name": "python"
    }
  },
  "cells": [
    {
      "cell_type": "markdown",
      "metadata": {
        "id": "view-in-github",
        "colab_type": "text"
      },
      "source": [
        "<a href=\"https://colab.research.google.com/github/fatenchtioui/NLP/blob/main/Spark_Analyse_de_sentiment_de_pro_.ipynb\" target=\"_parent\"><img src=\"https://colab.research.google.com/assets/colab-badge.svg\" alt=\"Open In Colab\"/></a>"
      ]
    },
    {
      "cell_type": "markdown",
      "source": [
        "# Analyse de sentiment sur des avis de produits"
      ],
      "metadata": {
        "id": "bj5gsAhHcxHl"
      }
    },
    {
      "cell_type": "markdown",
      "source": [
        "## Étape 1: Importer les bibliothèques nécessaires et initialiser Spark"
      ],
      "metadata": {
        "id": "81PMcDVDc8At"
      }
    },
    {
      "cell_type": "code",
      "source": [
        "!pip install pyspark"
      ],
      "metadata": {
        "id": "N7qm1Z3kiqLS",
        "colab": {
          "base_uri": "https://localhost:8080/"
        },
        "outputId": "eb8161c3-406b-42a5-8983-57694328de15"
      },
      "execution_count": null,
      "outputs": [
        {
          "output_type": "stream",
          "name": "stdout",
          "text": [
            "Collecting pyspark\n",
            "  Downloading pyspark-3.5.0.tar.gz (316.9 MB)\n",
            "\u001b[2K     \u001b[90m━━━━━━━━━━━━━━━━━━━━━━━━━━━━━━━━━━━━━━━━\u001b[0m \u001b[32m316.9/316.9 MB\u001b[0m \u001b[31m3.0 MB/s\u001b[0m eta \u001b[36m0:00:00\u001b[0m\n",
            "\u001b[?25h  Preparing metadata (setup.py) ... \u001b[?25l\u001b[?25hdone\n",
            "Requirement already satisfied: py4j==0.10.9.7 in /usr/local/lib/python3.10/dist-packages (from pyspark) (0.10.9.7)\n",
            "Building wheels for collected packages: pyspark\n",
            "  Building wheel for pyspark (setup.py) ... \u001b[?25l\u001b[?25hdone\n",
            "  Created wheel for pyspark: filename=pyspark-3.5.0-py2.py3-none-any.whl size=317425345 sha256=76475c7c000759b58a443fa2ac04d04a1a3880522dfee2f6ad7a31991288adb7\n",
            "  Stored in directory: /root/.cache/pip/wheels/41/4e/10/c2cf2467f71c678cfc8a6b9ac9241e5e44a01940da8fbb17fc\n",
            "Successfully built pyspark\n",
            "Installing collected packages: pyspark\n",
            "Successfully installed pyspark-3.5.0\n"
          ]
        }
      ]
    },
    {
      "cell_type": "code",
      "source": [
        "from pyspark.sql import SparkSession\n",
        "from pyspark.ml.feature import HashingTF, IDF, Tokenizer\n",
        "from pyspark.ml.classification import LogisticRegression, LinearSVC, RandomForestClassifier\n",
        "from pyspark.ml.classification import DecisionTreeClassifier, GBTClassifier\n",
        "from pyspark.ml.evaluation import BinaryClassificationEvaluator\n",
        "import matplotlib.pyplot as plt\n",
        "import pandas as pd\n",
        "from pyspark.ml import Pipeline\n",
        "\n",
        "\n"
      ],
      "metadata": {
        "id": "QwxnPdCTNMfE"
      },
      "execution_count": null,
      "outputs": []
    },
    {
      "cell_type": "code",
      "source": [
        "# Initialiser Spark Session\n",
        "spark = SparkSession.builder.appName(\"SentimentAnalysis\").getOrCreate()\n"
      ],
      "metadata": {
        "id": "yPPCm0fiQddU"
      },
      "execution_count": null,
      "outputs": []
    },
    {
      "cell_type": "markdown",
      "source": [
        "## Étape 2: Télécharger le jeu de données et effectuer une exploration"
      ],
      "metadata": {
        "id": "Lxp4OhPBdDi_"
      }
    },
    {
      "cell_type": "code",
      "source": [
        "# Charger le jeu de données à partir du fichier CSV téléchargé\n",
        "file_path = \"/content/training.1600000.processed.noemoticon.csv\"  # Assurez-vous d'ajuster le chemin\n",
        "sentiment_data_pd = pd.read_csv(file_path, header=None, names=[\"label\", \"timestamp\", \"text\", \"query\", \"username\", \"tweet\"], encoding=\"ISO-8859-1\", nrows=1000)\n",
        "\n",
        "# Supprimer les colonnes inutiles\n",
        "sentiment_data_pd = sentiment_data_pd[[\"label\", \"text\"]]\n",
        "\n",
        "# Convertir le DataFrame pandas en DataFrame Spark en spécifiant le schéma\n",
        "from pyspark.sql.types import StructType, StructField, IntegerType, StringType\n",
        "\n",
        "schema = StructType([\n",
        "    StructField(\"label\", IntegerType(), True),\n",
        "    StructField(\"text\", StringType(), True)\n",
        "])\n",
        "\n",
        "sentiment_data_spark = spark.createDataFrame(sentiment_data_pd, schema=schema)\n",
        "sentiment_data_spark.show()\n"
      ],
      "metadata": {
        "colab": {
          "base_uri": "https://localhost:8080/"
        },
        "id": "5yQIF4heMvHY",
        "outputId": "d94cfe88-d5e4-4708-cf79-dc7d0373ae2f"
      },
      "execution_count": null,
      "outputs": [
        {
          "output_type": "stream",
          "name": "stdout",
          "text": [
            "+-----+--------------------+\n",
            "|label|                text|\n",
            "+-----+--------------------+\n",
            "|    0|Mon Apr 06 22:19:...|\n",
            "|    0|Mon Apr 06 22:19:...|\n",
            "|    0|Mon Apr 06 22:19:...|\n",
            "|    0|Mon Apr 06 22:19:...|\n",
            "|    0|Mon Apr 06 22:19:...|\n",
            "|    0|Mon Apr 06 22:20:...|\n",
            "|    0|Mon Apr 06 22:20:...|\n",
            "|    0|Mon Apr 06 22:20:...|\n",
            "|    0|Mon Apr 06 22:20:...|\n",
            "|    0|Mon Apr 06 22:20:...|\n",
            "|    0|Mon Apr 06 22:20:...|\n",
            "|    0|Mon Apr 06 22:20:...|\n",
            "|    0|Mon Apr 06 22:20:...|\n",
            "|    0|Mon Apr 06 22:20:...|\n",
            "|    0|Mon Apr 06 22:20:...|\n",
            "|    0|Mon Apr 06 22:20:...|\n",
            "|    0|Mon Apr 06 22:20:...|\n",
            "|    0|Mon Apr 06 22:20:...|\n",
            "|    0|Mon Apr 06 22:20:...|\n",
            "|    0|Mon Apr 06 22:20:...|\n",
            "+-----+--------------------+\n",
            "only showing top 20 rows\n",
            "\n"
          ]
        }
      ]
    },
    {
      "cell_type": "markdown",
      "source": [
        "## Étape 3: Prétraitement des données"
      ],
      "metadata": {
        "id": "zLMsALWHdJQi"
      }
    },
    {
      "cell_type": "code",
      "source": [
        "# Charger le jeu de données à partir du fichier CSV téléchargé\n",
        "file_path = \"/content/training.1600000.processed.noemoticon.csv\"  # Assurez-vous d'ajuster le chemin\n",
        "sentiment_data_pd = pd.read_csv(file_path, header=None, names=[\"label\", \"timestamp\", \"text\", \"query\", \"username\", \"tweet\"], encoding=\"ISO-8859-1\", nrows=1000)\n",
        "\n",
        "# Supprimer les colonnes inutiles\n",
        "sentiment_data_pd = sentiment_data_pd[[\"label\", \"text\"]]\n",
        "\n",
        "# Convertir le DataFrame pandas en DataFrame Spark en spécifiant le schéma\n",
        "from pyspark.sql.types import StructType, StructField, IntegerType, StringType\n",
        "\n",
        "schema = StructType([\n",
        "    StructField(\"label\", IntegerType(), True),\n",
        "    StructField(\"text\", StringType(), True)\n",
        "])\n",
        "\n",
        "sentiment_data_spark = spark.createDataFrame(sentiment_data_pd, schema=schema)\n",
        "\n",
        "# Tokenization et calcul de TF-IDF\n",
        "tokenizer = Tokenizer(inputCol='text', outputCol='words')\n",
        "hashingTF = HashingTF(inputCol=\"words\", outputCol=\"rawFeatures\", numFeatures=5000)\n",
        "idf = IDF(inputCol=\"rawFeatures\", outputCol=\"features\")\n",
        "\n",
        "# Assemblage des étapes de prétraitement en un pipeline\n",
        "pipeline = Pipeline(stages=[tokenizer, hashingTF, idf])\n",
        "sentiment_data_spark = pipeline.fit(sentiment_data_spark).transform(sentiment_data_spark)\n",
        "\n",
        "# Séparation des données en ensembles d'entraînement et de test\n",
        "(train_data, test_data) = sentiment_data_spark.randomSplit([0.8, 0.2], seed=42)\n"
      ],
      "metadata": {
        "id": "zKQn8uNFNFg8"
      },
      "execution_count": null,
      "outputs": []
    },
    {
      "cell_type": "markdown",
      "source": [
        "## Étape 4: Appliquer les algorithmes de machine learning"
      ],
      "metadata": {
        "id": "_eqA23JXdL23"
      }
    },
    {
      "cell_type": "code",
      "source": [
        "evaluator = BinaryClassificationEvaluator(labelCol=\"label\", rawPredictionCol=\"rawPrediction\", metricName=\"areaUnderROC\")"
      ],
      "metadata": {
        "id": "ppP7kRyUUNQa"
      },
      "execution_count": null,
      "outputs": []
    },
    {
      "cell_type": "code",
      "source": [
        "\n",
        "# Créer un évaluateur en spécifiant rawPredictionCol\n",
        "evaluator = BinaryClassificationEvaluator(labelCol=\"label\", rawPredictionCol=\"prediction\", metricName=\"areaUnderROC\")\n",
        "\n",
        "# Entraîner le modèle Logistic Regression en spécifiant la colonne rawPrediction\n",
        "lr = LogisticRegression(labelCol=\"label\", featuresCol=\"features\", maxIter=10)\n",
        "lr_model = lr.fit(train_data)\n",
        "\n",
        "# Utiliser la colonne de probabilité au lieu de rawPrediction\n",
        "predictions_lr = lr_model.transform(test_data)\n",
        "\n",
        "# Évaluer le modèle en utilisant la colonne \"prediction\"\n",
        "auc_lr = evaluator.evaluate(predictions_lr)\n",
        "\n",
        "# Imprimer le résultat\n",
        "print(f\"Logistic Regression AUC: {auc_lr}\")\n",
        "\n",
        "\n"
      ],
      "metadata": {
        "colab": {
          "base_uri": "https://localhost:8080/"
        },
        "id": "9B7Uzgn8VwmE",
        "outputId": "4dbabf0a-928d-48c3-8582-146ca9f12446"
      },
      "execution_count": null,
      "outputs": [
        {
          "output_type": "stream",
          "name": "stdout",
          "text": [
            "Logistic Regression AUC: 0.0\n"
          ]
        }
      ]
    },
    {
      "cell_type": "code",
      "source": [
        "# Créer un évaluateur en spécifiant rawPredictionCol\n",
        "evaluator = BinaryClassificationEvaluator(labelCol=\"label\", rawPredictionCol=\"prediction\", metricName=\"areaUnderROC\")\n",
        "\n",
        "# Gradient-Boosted Trees\n",
        "gbt = GBTClassifier(labelCol=\"label\", featuresCol=\"features\", maxIter=10)\n",
        "gbt_model = gbt.fit(train_data)\n",
        "\n",
        "# Utiliser la colonne de probabilité au lieu de rawPrediction\n",
        "predictions_gbt =gbt_model.transform(test_data)\n",
        "\n",
        "# Évaluer le modèle en utilisant la colonne \"prediction\"\n",
        "auc_gbt = evaluator.evaluate(predictions_gbt)\n",
        "\n",
        "# Imprimer le résultat\n",
        "print(f\"Gradient-Boosted Trees AUC: {auc_gbt}\")"
      ],
      "metadata": {
        "colab": {
          "base_uri": "https://localhost:8080/"
        },
        "id": "Oi-nZ6W0WQLR",
        "outputId": "a36c4a39-cf88-406e-d4a5-178af708d1d8"
      },
      "execution_count": null,
      "outputs": [
        {
          "output_type": "stream",
          "name": "stdout",
          "text": [
            "Gradient-Boosted Trees AUC: 0.0\n"
          ]
        }
      ]
    },
    {
      "cell_type": "code",
      "source": [
        "# Créer un évaluateur en spécifiant rawPredictionCol\n",
        "evaluator = BinaryClassificationEvaluator(labelCol=\"label\", rawPredictionCol=\"prediction\", metricName=\"areaUnderROC\")\n",
        "\n",
        "# Forêt Aléatoire\n",
        "rf = RandomForestClassifier(labelCol=\"label\", featuresCol=\"features\")\n",
        "rf_model = rf.fit(train_data)\n",
        "# Utiliser la colonne de probabilité au lieu de rawPrediction\n",
        "predictions_rf =rf_model.transform(test_data)\n",
        "\n",
        "# Évaluer le modèle en utilisant la colonne \"prediction\"\n",
        "auc_rf = evaluator.evaluate(predictions_rf)\n",
        "\n",
        "# Imprimer le résultat\n",
        "print(f\"Forêt Aléatoire AUC: {auc_rf}\")"
      ],
      "metadata": {
        "colab": {
          "base_uri": "https://localhost:8080/"
        },
        "id": "VYJQHiMoYgyJ",
        "outputId": "d0b94adf-ad17-4431-d3ee-b17d0c37347f"
      },
      "execution_count": null,
      "outputs": [
        {
          "output_type": "stream",
          "name": "stdout",
          "text": [
            "Forêt Aléatoire AUC: 0.0\n"
          ]
        }
      ]
    },
    {
      "cell_type": "markdown",
      "source": [
        "## Étape 5: Visualiser les résultats"
      ],
      "metadata": {
        "id": "6eDSIKIydQc3"
      }
    },
    {
      "cell_type": "code",
      "source": [
        "# Fonction pour afficher la distribution des prédictions\n",
        "def plot_distribution(predictions, model_name):\n",
        "    predictions_pd = predictions.select(\"probability\", \"label\").toPandas()\n",
        "\n",
        "    plt.figure(figsize=(8, 5))\n",
        "    plt.hist(predictions_pd[predictions_pd['label'] == 1]['probability'], bins=20, alpha=0.5, label='Positive')\n",
        "    plt.hist(predictions_pd[predictions_pd['label'] == 0]['probability'], bins=20, alpha=0.5, label='Negative')\n",
        "\n",
        "    plt.xlabel('Probability')\n",
        "    plt.ylabel('Count')\n",
        "    plt.title(f'{model_name} - Probability Distribution')\n",
        "    plt.legend()\n",
        "    plt.show()\n",
        "\n",
        "# Visualiser la distribution des prédictions pour chaque modèle\n",
        "plot_distribution(lr_model.transform(test_data), \"Logistic Regression\")\n",
        "plot_distribution(rf_model.transform(test_data), \"Random Forest\")\n",
        "plot_distribution(gbt_model.transform(test_data), \"Gradient-Boosted Trees\")\n"
      ],
      "metadata": {
        "colab": {
          "base_uri": "https://localhost:8080/",
          "height": 957
        },
        "id": "QvZXFVM6Y9zw",
        "outputId": "ae093648-e374-4ca5-caba-d28d022d2b15"
      },
      "execution_count": null,
      "outputs": [
        {
          "output_type": "display_data",
          "data": {
            "text/plain": [
              "<Figure size 800x500 with 1 Axes>"
            ],
            "image/png": "[encoded data removed]"
          },
          "metadata": {}
        },
        {
          "output_type": "display_data",
          "data": {
            "text/plain": [
              "<Figure size 800x500 with 1 Axes>"
            ],
            "image/png": "[encoded data removed]"
          },
          "metadata": {}
        }
      ]
    },
    {
      "cell_type": "code",
      "source": [],
      "metadata": {
        "id": "7zcDBlJYaAnQ"
      },
      "execution_count": null,
      "outputs": []
    }
  ]
}