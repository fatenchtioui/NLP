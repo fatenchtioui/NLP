{
  "nbformat": 4,
  "nbformat_minor": 0,
  "metadata": {
    "colab": {
      "provenance": [],
      "include_colab_link": true
    },
    "kernelspec": {
      "name": "python3",
      "display_name": "Python 3"
    },
    "language_info": {
      "name": "python"
    }
  },
  "cells": [
    {
      "cell_type": "markdown",
      "metadata": {
        "id": "view-in-github",
        "colab_type": "text"
      },
      "source": [
        "<a href=\"https://colab.research.google.com/github/fatenchtioui/NLP/blob/main/Spark_NLP.ipynb\" target=\"_parent\"><img src=\"https://colab.research.google.com/assets/colab-badge.svg\" alt=\"Open In Colab\"/></a>"
      ]
    },
    {
      "cell_type": "markdown",
      "source": [
        "L'ensemble de données UCI ML News Aggregator contient des titres et des catégories pour plus de 400 000 articles d'actualité. La tâche consiste à créer un modèle de classification qui classe les titres d'actualité dans des catégories prédéfinies."
      ],
      "metadata": {
        "id": "WcOzyUC_04eE"
      }
    },
    {
      "cell_type": "code",
      "source": [
        "from google.colab import drive\n",
        "drive.mount('/content/drive')"
      ],
      "metadata": {
        "colab": {
          "base_uri": "https://localhost:8080/"
        },
        "id": "9_dTStqGA4Qf",
        "outputId": "ede6b1bd-a56f-46da-9c4a-34cd71ca69b7"
      },
      "execution_count": null,
      "outputs": [
        {
          "output_type": "stream",
          "name": "stdout",
          "text": [
            "Mounted at /content/drive\n"
          ]
        }
      ]
    },
    {
      "cell_type": "code",
      "execution_count": null,
      "metadata": {
        "colab": {
          "base_uri": "https://localhost:8080/"
        },
        "id": "Vh8elyfR0e9s",
        "outputId": "ebcd653b-72f4-4b0a-8e42-536ea7ec5edd"
      },
      "outputs": [
        {
          "output_type": "stream",
          "name": "stdout",
          "text": [
            "Collecting pyspark\n",
            "  Downloading pyspark-3.5.0.tar.gz (316.9 MB)\n",
            "\u001b[2K     \u001b[90m━━━━━━━━━━━━━━━━━━━━━━━━━━━━━━━━━━━━━━━━\u001b[0m \u001b[32m316.9/316.9 MB\u001b[0m \u001b[31m3.4 MB/s\u001b[0m eta \u001b[36m0:00:00\u001b[0m\n",
            "\u001b[?25h  Preparing metadata (setup.py) ... \u001b[?25l\u001b[?25hdone\n",
            "Requirement already satisfied: py4j==0.10.9.7 in /usr/local/lib/python3.10/dist-packages (from pyspark) (0.10.9.7)\n",
            "Building wheels for collected packages: pyspark\n",
            "  Building wheel for pyspark (setup.py) ... \u001b[?25l\u001b[?25hdone\n",
            "  Created wheel for pyspark: filename=pyspark-3.5.0-py2.py3-none-any.whl size=317425345 sha256=c381fb98294d63915b96079ee921a1ca1fc51bf6ea3ebfec5e6aa30f72a6faf5\n",
            "  Stored in directory: /root/.cache/pip/wheels/41/4e/10/c2cf2467f71c678cfc8a6b9ac9241e5e44a01940da8fbb17fc\n",
            "Successfully built pyspark\n",
            "Installing collected packages: pyspark\n",
            "Successfully installed pyspark-3.5.0\n"
          ]
        }
      ],
      "source": [
        "!pip install pyspark"
      ]
    },
    {
      "cell_type": "markdown",
      "source": [
        "## Importer les bibliothèques nécessaires"
      ],
      "metadata": {
        "id": "lq2hY_W12DOX"
      }
    },
    {
      "cell_type": "code",
      "source": [
        "from pyspark.ml import Pipeline\n",
        "from pyspark.ml.feature import CountVectorizer,StringIndexer, RegexTokenizer,StopWordsRemover\n",
        "from pyspark.sql.functions import col, udf,regexp_replace,isnull\n",
        "from pyspark.sql.types import StringType,IntegerType\n",
        "from pyspark.ml.classification import NaiveBayes\n",
        "from pyspark.ml.evaluation import MulticlassClassificationEvaluator\n"
      ],
      "metadata": {
        "id": "gdjiXMwz1WLV"
      },
      "execution_count": null,
      "outputs": []
    },
    {
      "cell_type": "code",
      "source": [
        "from pyspark.sql import SparkSession"
      ],
      "metadata": {
        "id": "9RT3HEzR4OLr"
      },
      "execution_count": null,
      "outputs": []
    },
    {
      "cell_type": "code",
      "source": [
        "spark = SparkSession \\\n",
        "    .builder \\\n",
        "    .appName(\"Spark NLP \") \\\n",
        "    .getOrCreate()"
      ],
      "metadata": {
        "id": "ivt_hPkg34OA"
      },
      "execution_count": null,
      "outputs": []
    },
    {
      "cell_type": "markdown",
      "source": [
        "## Ingestion et extraction de données"
      ],
      "metadata": {
        "id": "Sc0CFyDS2PjI"
      }
    },
    {
      "cell_type": "code",
      "source": [
        "data_path = \"/content/drive/MyDrive/uci-news-aggregator.csv\""
      ],
      "metadata": {
        "id": "pqetAkh22O4g"
      },
      "execution_count": null,
      "outputs": []
    },
    {
      "cell_type": "code",
      "source": [
        "news_data =spark.read.csv(data_path,header = 'True',inferSchema='True')"
      ],
      "metadata": {
        "id": "9Y3DjQiC2cZp"
      },
      "execution_count": null,
      "outputs": []
    },
    {
      "cell_type": "code",
      "source": [
        "news_data.show()"
      ],
      "metadata": {
        "colab": {
          "base_uri": "https://localhost:8080/"
        },
        "id": "QrWtwXK22jLZ",
        "outputId": "48ed6ba7-6055-434e-f8e7-a7f3f7df7488"
      },
      "execution_count": null,
      "outputs": [
        {
          "output_type": "stream",
          "name": "stdout",
          "text": [
            "+---+--------------------+--------------------+--------------------+--------+--------------------+--------------------+-------------+\n",
            "| ID|               TITLE|                 URL|           PUBLISHER|CATEGORY|               STORY|            HOSTNAME|    TIMESTAMP|\n",
            "+---+--------------------+--------------------+--------------------+--------+--------------------+--------------------+-------------+\n",
            "|  1|Fed official says...|http://www.latime...|   Los Angeles Times|       b|ddUyU0VZz0BRneMio...|     www.latimes.com|1394470370698|\n",
            "|  2|Fed's Charles Plo...|http://www.livemi...|            Livemint|       b|ddUyU0VZz0BRneMio...|    www.livemint.com|1394470371207|\n",
            "|  3|US open: Stocks f...|http://www.ifamag...|        IFA Magazine|       b|ddUyU0VZz0BRneMio...| www.ifamagazine.com|1394470371550|\n",
            "|  4|Fed risks falling...|http://www.ifamag...|        IFA Magazine|       b|ddUyU0VZz0BRneMio...| www.ifamagazine.com|1394470371793|\n",
            "|  5|Fed's Plosser: Na...|http://www.moneyn...|           Moneynews|       b|ddUyU0VZz0BRneMio...|   www.moneynews.com|1394470372027|\n",
            "|  6|Plosser: Fed May ...|http://www.nasdaq...|              NASDAQ|       b|ddUyU0VZz0BRneMio...|      www.nasdaq.com|1394470372212|\n",
            "|  7|Fed's Plosser: Ta...|http://www.market...|         MarketWatch|       b|ddUyU0VZz0BRneMio...| www.marketwatch.com|1394470372405|\n",
            "|  8|Fed's Plosser exp...|http://www.fxstre...|        FXstreet.com|       b|ddUyU0VZz0BRneMio...|    www.fxstreet.com|1394470372615|\n",
            "|  9|US jobs growth la...|http://economicti...|      Economic Times|       b|ddUyU0VZz0BRneMio...|economictimes.ind...|1394470372792|\n",
            "| 10|ECB unlikely to e...|http://www.iii.co...|Interactive Investor|       b|dPhGU51DcrolUIMxb...|       www.iii.co.uk|1394470501265|\n",
            "| 11|ECB unlikely to e...|http://in.reuters...|       Reuters India|       b|dPhGU51DcrolUIMxb...|      in.reuters.com|1394470501410|\n",
            "| 12|EU's half-baked b...|http://blogs.reut...| Reuters UK \\(blog\\)|       b|dPhGU51DcrolUIMxb...|   blogs.reuters.com|1394470501587|\n",
            "| 13|Europe reaches cr...|http://in.reuters...|             Reuters|       b|dPhGU51DcrolUIMxb...|      in.reuters.com|1394470501755|\n",
            "| 14|ECB FOCUS-Stronge...|http://in.reuters...|             Reuters|       b|dPhGU51DcrolUIMxb...|      in.reuters.com|1394470501948|\n",
            "| 15|EU aims for deal ...|http://main.omano...| Oman Daily Observer|       b|dPhGU51DcrolUIMxb...|main.omanobserver.om|1394470502141|\n",
            "| 16|Forex - Pound dro...|http://www.nasdaq...|              NASDAQ|       b|dPhGU51DcrolUIMxb...|      www.nasdaq.com|1394470502316|\n",
            "| 17|Noyer Says Strong...|http://www.sfgate...|San Francisco Chr...|       b|dPhGU51DcrolUIMxb...|      www.sfgate.com|1394470502543|\n",
            "| 18|EU Week Ahead Mar...|http://blogs.wsj....|Wall Street Journ...|       b|dPhGU51DcrolUIMxb...|       blogs.wsj.com|1394470502744|\n",
            "| 19|ECB member Noyer ...|http://www.ifamag...|        IFA Magazine|       b|dPhGU51DcrolUIMxb...| www.ifamagazine.com|1394470502946|\n",
            "| 20|Euro Anxieties Wa...|http://www.busine...|        Businessweek|       b|dPhGU51DcrolUIMxb...|www.businessweek.com|1394470503148|\n",
            "+---+--------------------+--------------------+--------------------+--------+--------------------+--------------------+-------------+\n",
            "only showing top 20 rows\n",
            "\n"
          ]
        }
      ]
    },
    {
      "cell_type": "code",
      "source": [
        "news_data.count()"
      ],
      "metadata": {
        "colab": {
          "base_uri": "https://localhost:8080/"
        },
        "id": "DTxdyVHb2k0W",
        "outputId": "1dff4cb3-5c19-410f-fd10-62642cd903e4"
      },
      "execution_count": null,
      "outputs": [
        {
          "output_type": "execute_result",
          "data": {
            "text/plain": [
              "422937"
            ]
          },
          "metadata": {},
          "execution_count": 9
        }
      ]
    },
    {
      "cell_type": "markdown",
      "source": [
        "Il y a 422937 articles d'actualité."
      ],
      "metadata": {
        "id": "BGEbvr9c20Cs"
      }
    },
    {
      "cell_type": "code",
      "source": [
        "title_category = news_data.select(\"TITLE\",\"CATEGORY\")"
      ],
      "metadata": {
        "id": "RtdJFeU5227P"
      },
      "execution_count": null,
      "outputs": []
    },
    {
      "cell_type": "code",
      "source": [
        "title_category.show()"
      ],
      "metadata": {
        "colab": {
          "base_uri": "https://localhost:8080/"
        },
        "id": "e3djxwXI281D",
        "outputId": "b8973358-def7-4d7c-97cb-18a89593fa48"
      },
      "execution_count": null,
      "outputs": [
        {
          "output_type": "stream",
          "name": "stdout",
          "text": [
            "+--------------------+--------+\n",
            "|               TITLE|CATEGORY|\n",
            "+--------------------+--------+\n",
            "|Fed official says...|       b|\n",
            "|Fed's Charles Plo...|       b|\n",
            "|US open: Stocks f...|       b|\n",
            "|Fed risks falling...|       b|\n",
            "|Fed's Plosser: Na...|       b|\n",
            "|Plosser: Fed May ...|       b|\n",
            "|Fed's Plosser: Ta...|       b|\n",
            "|Fed's Plosser exp...|       b|\n",
            "|US jobs growth la...|       b|\n",
            "|ECB unlikely to e...|       b|\n",
            "|ECB unlikely to e...|       b|\n",
            "|EU's half-baked b...|       b|\n",
            "|Europe reaches cr...|       b|\n",
            "|ECB FOCUS-Stronge...|       b|\n",
            "|EU aims for deal ...|       b|\n",
            "|Forex - Pound dro...|       b|\n",
            "|Noyer Says Strong...|       b|\n",
            "|EU Week Ahead Mar...|       b|\n",
            "|ECB member Noyer ...|       b|\n",
            "|Euro Anxieties Wa...|       b|\n",
            "+--------------------+--------+\n",
            "only showing top 20 rows\n",
            "\n"
          ]
        }
      ]
    },
    {
      "cell_type": "markdown",
      "source": [
        "Vérifions les valeurs nulles dans les colonnes TITLE et CATEGORY"
      ],
      "metadata": {
        "id": "rEyjm_Bk3EjQ"
      }
    },
    {
      "cell_type": "code",
      "source": [
        "def null_value_count(df):\n",
        "  null_columns_counts = []\n",
        "  numRows = df.count()\n",
        "  for k in df.columns:\n",
        "    nullRows = df.where(col(k).isNull()).count()\n",
        "    if(nullRows > 0):\n",
        "      temp = k,nullRows\n",
        "      null_columns_counts.append(temp)\n",
        "  return(null_columns_counts)"
      ],
      "metadata": {
        "id": "1JZfrZEm3G9b"
      },
      "execution_count": null,
      "outputs": []
    },
    {
      "cell_type": "code",
      "source": [
        "null_columns_count_list = null_value_count(title_category)\n"
      ],
      "metadata": {
        "id": "Ya9KjYdH3OWu"
      },
      "execution_count": null,
      "outputs": []
    },
    {
      "cell_type": "code",
      "source": [
        "spark.createDataFrame(null_columns_count_list, ['Column_With_Null_Value', 'Null_Values_Count']).show()"
      ],
      "metadata": {
        "colab": {
          "base_uri": "https://localhost:8080/"
        },
        "id": "vxtWeRSB3Qq7",
        "outputId": "7fc42824-8ce4-4cea-8005-655ff9447589"
      },
      "execution_count": null,
      "outputs": [
        {
          "output_type": "stream",
          "name": "stdout",
          "text": [
            "+----------------------+-----------------+\n",
            "|Column_With_Null_Value|Null_Values_Count|\n",
            "+----------------------+-----------------+\n",
            "|                 TITLE|              389|\n",
            "|              CATEGORY|              516|\n",
            "+----------------------+-----------------+\n",
            "\n"
          ]
        }
      ]
    },
    {
      "cell_type": "markdown",
      "source": [
        "Il y a 389 titres vides et 516 catégories\n",
        "## Supprimez les valeurs nulles"
      ],
      "metadata": {
        "id": "EEjFEgg-6TvM"
      }
    },
    {
      "cell_type": "code",
      "source": [
        "title_category = title_category.dropna()"
      ],
      "metadata": {
        "id": "S-RC12sY6Zq5"
      },
      "execution_count": null,
      "outputs": []
    },
    {
      "cell_type": "code",
      "source": [
        "title_category.count()"
      ],
      "metadata": {
        "colab": {
          "base_uri": "https://localhost:8080/"
        },
        "id": "b57nRKdy6coA",
        "outputId": "ebcd5da2-8459-4e1c-e862-a4ce81ae3b00"
      },
      "execution_count": null,
      "outputs": [
        {
          "output_type": "execute_result",
          "data": {
            "text/plain": [
              "422421"
            ]
          },
          "metadata": {},
          "execution_count": 16
        }
      ]
    },
    {
      "cell_type": "code",
      "source": [
        "title_category.show(truncate=False)"
      ],
      "metadata": {
        "colab": {
          "base_uri": "https://localhost:8080/"
        },
        "id": "lby0s55h6fAB",
        "outputId": "89bf10d8-39fc-443e-e7d8-557b1fa8d580"
      },
      "execution_count": null,
      "outputs": [
        {
          "output_type": "stream",
          "name": "stdout",
          "text": [
            "+---------------------------------------------------------------------------+--------+\n",
            "|TITLE                                                                      |CATEGORY|\n",
            "+---------------------------------------------------------------------------+--------+\n",
            "|Fed official says weak data caused by weather, should not slow taper       |b       |\n",
            "|Fed's Charles Plosser sees high bar for change in pace of tapering         |b       |\n",
            "|US open: Stocks fall after Fed official hints at accelerated tapering      |b       |\n",
            "|Fed risks falling 'behind the curve', Charles Plosser says                 |b       |\n",
            "|Fed's Plosser: Nasty Weather Has Curbed Job Growth                         |b       |\n",
            "|Plosser: Fed May Have to Accelerate Tapering Pace                          |b       |\n",
            "|Fed's Plosser: Taper pace may be too slow                                  |b       |\n",
            "|Fed's Plosser expects US unemployment to fall to 6.2% by the end of 2014   |b       |\n",
            "|US jobs growth last month hit by weather:Fed President Charles Plosser     |b       |\n",
            "|ECB unlikely to end sterilisation of SMP purchases - traders               |b       |\n",
            "|ECB unlikely to end sterilization of SMP purchases: traders                |b       |\n",
            "|EU's half-baked bank union could work                                      |b       |\n",
            "|Europe reaches crunch point on banking union                               |b       |\n",
            "|ECB FOCUS-Stronger euro drowns out ECB's message to keep rates low for  ...|b       |\n",
            "|EU aims for deal on tackling failing banks                                 |b       |\n",
            "|Forex - Pound drops to one-month lows against euro                         |b       |\n",
            "|Noyer Says Strong Euro Creates Unwarranted Economic Pressure               |b       |\n",
            "|EU Week Ahead March 10-14: Bank Resolution, Transparency, Ukraine          |b       |\n",
            "|ECB member Noyer is 'very open to all kinds of tools'                      |b       |\n",
            "|Euro Anxieties Wane as Bunds Top Treasuries, Spain Debt Rallies            |b       |\n",
            "+---------------------------------------------------------------------------+--------+\n",
            "only showing top 20 rows\n",
            "\n"
          ]
        }
      ]
    },
    {
      "cell_type": "code",
      "source": [
        "title_category.select(\"Category\").distinct().count()"
      ],
      "metadata": {
        "colab": {
          "base_uri": "https://localhost:8080/"
        },
        "id": "MJnQpYBX6iMk",
        "outputId": "a34763db-0f56-46e0-b468-8547f20c1349"
      },
      "execution_count": null,
      "outputs": [
        {
          "output_type": "execute_result",
          "data": {
            "text/plain": [
              "265"
            ]
          },
          "metadata": {},
          "execution_count": 18
        }
      ]
    },
    {
      "cell_type": "markdown",
      "source": [
        "Top 20 des catégories d'actualités nov\n"
      ],
      "metadata": {
        "id": "FQU2zXT96o8u"
      }
    },
    {
      "cell_type": "code",
      "source": [
        "title_category.groupBy(\"Category\").count().orderBy(col(\"count\").desc()).show(truncate=False)"
      ],
      "metadata": {
        "colab": {
          "base_uri": "https://localhost:8080/"
        },
        "id": "1MIUHgUu6q6X",
        "outputId": "54dc5bf2-57e5-4277-f5a1-ea0aa3c5a15e"
      },
      "execution_count": null,
      "outputs": [
        {
          "output_type": "stream",
          "name": "stdout",
          "text": [
            "+--------------------+------+\n",
            "|Category            |count |\n",
            "+--------------------+------+\n",
            "|e                   |152127|\n",
            "|b                   |115935|\n",
            "|t                   |108237|\n",
            "|m                   |45616 |\n",
            "|Us Magazine         |31    |\n",
            "|Contactmusic.com    |20    |\n",
            "|GossipCop           |20    |\n",
            "|CBS News            |12    |\n",
            "|Complex.com         |12    |\n",
            "|The Hollywood Gossip|11    |\n",
            "|HipHopDX            |11    |\n",
            "|We Got This Covered |10    |\n",
            "|HeadlinePlanet.com  |10    |\n",
            "|Gamepur             |8     |\n",
            "|WorstPreviews.com   |7     |\n",
            "|TooFab.com          |7     |\n",
            "|Wetpaint            |7     |\n",
            "|Consequence of Sound|7     |\n",
            "|The Escapist        |6     |\n",
            "|Reality TV World    |5     |\n",
            "+--------------------+------+\n",
            "only showing top 20 rows\n",
            "\n"
          ]
        }
      ]
    },
    {
      "cell_type": "markdown",
      "source": [
        "Titre d'actualité du Top 20"
      ],
      "metadata": {
        "id": "0ZdyPTXB6zwp"
      }
    },
    {
      "cell_type": "code",
      "source": [
        "title_category.groupBy(\"TITLE\").count().orderBy(col(\"count\").desc()).show(truncate=False)"
      ],
      "metadata": {
        "colab": {
          "base_uri": "https://localhost:8080/"
        },
        "id": "Q3oinb0G6tl_",
        "outputId": "c4208ee8-af8e-412d-b438-d6a1fb6f3987"
      },
      "execution_count": null,
      "outputs": [
        {
          "output_type": "stream",
          "name": "stdout",
          "text": [
            "+----------------------------------------------------------------------------------+-----+\n",
            "|TITLE                                                                             |count|\n",
            "+----------------------------------------------------------------------------------+-----+\n",
            "|The article requested cannot be found! Please refresh your browser or go back  ...|145  |\n",
            "|Posted by Parvez Jabri                                                            |59   |\n",
            "|Business Highlights                                                               |59   |\n",
            "|Posted by Imaduddin                                                               |53   |\n",
            "|Posted by Shoaib-ur-Rehman Siddiqui                                               |52   |\n",
            "|(click the phrases to see a list)                                                 |51   |\n",
            "|Business Wire                                                                     |41   |\n",
            "|PR Newswire                                                                       |38   |\n",
            "|Posted by Muhammad Iqbal                                                          |35   |\n",
            "|Change text size for the story                                                    |34   |\n",
            "|Get the Most Popular Beauty World News Stories in a Weekly Newsletter             |34   |\n",
            "|Business briefs                                                                   |33   |\n",
            "|International markets roundup                                                     |33   |\n",
            "|India Morning Call-Global Markets                                                 |27   |\n",
            "|10 Things to Know for Today                                                       |22   |\n",
            "|Breaking news                                                                     |21   |\n",
            "|Perez Recommends                                                                  |19   |\n",
            "|From ColumbusAlive.com                                                            |18   |\n",
            "|Texas Weekly Gas Price Update and Outlook                                         |18   |\n",
            "|The Daily Dish                                                                    |17   |\n",
            "+----------------------------------------------------------------------------------+-----+\n",
            "only showing top 20 rows\n",
            "\n"
          ]
        }
      ]
    },
    {
      "cell_type": "markdown",
      "source": [
        "## Nettoyons l'ensemble de données\n",
        "Supprimer les numéros des titres"
      ],
      "metadata": {
        "id": "1HH9nAZK7GlD"
      }
    },
    {
      "cell_type": "code",
      "source": [
        "title_category = title_category.withColumn(\"only_str\",regexp_replace(col('TITLE'), '\\d+', ''))"
      ],
      "metadata": {
        "id": "fo6Rkm9Q7HTy"
      },
      "execution_count": null,
      "outputs": []
    },
    {
      "cell_type": "code",
      "source": [
        "title_category.select(\"TITLE\",\"only_str\").show(truncate=False)"
      ],
      "metadata": {
        "colab": {
          "base_uri": "https://localhost:8080/"
        },
        "id": "yHmV1oE07LJr",
        "outputId": "74b4d32d-096d-4635-a96d-10d8c16b465c"
      },
      "execution_count": null,
      "outputs": [
        {
          "output_type": "stream",
          "name": "stdout",
          "text": [
            "+---------------------------------------------------------------------------+---------------------------------------------------------------------------+\n",
            "|TITLE                                                                      |only_str                                                                   |\n",
            "+---------------------------------------------------------------------------+---------------------------------------------------------------------------+\n",
            "|Fed official says weak data caused by weather, should not slow taper       |Fed official says weak data caused by weather, should not slow taper       |\n",
            "|Fed's Charles Plosser sees high bar for change in pace of tapering         |Fed's Charles Plosser sees high bar for change in pace of tapering         |\n",
            "|US open: Stocks fall after Fed official hints at accelerated tapering      |US open: Stocks fall after Fed official hints at accelerated tapering      |\n",
            "|Fed risks falling 'behind the curve', Charles Plosser says                 |Fed risks falling 'behind the curve', Charles Plosser says                 |\n",
            "|Fed's Plosser: Nasty Weather Has Curbed Job Growth                         |Fed's Plosser: Nasty Weather Has Curbed Job Growth                         |\n",
            "|Plosser: Fed May Have to Accelerate Tapering Pace                          |Plosser: Fed May Have to Accelerate Tapering Pace                          |\n",
            "|Fed's Plosser: Taper pace may be too slow                                  |Fed's Plosser: Taper pace may be too slow                                  |\n",
            "|Fed's Plosser expects US unemployment to fall to 6.2% by the end of 2014   |Fed's Plosser expects US unemployment to fall to .% by the end of          |\n",
            "|US jobs growth last month hit by weather:Fed President Charles Plosser     |US jobs growth last month hit by weather:Fed President Charles Plosser     |\n",
            "|ECB unlikely to end sterilisation of SMP purchases - traders               |ECB unlikely to end sterilisation of SMP purchases - traders               |\n",
            "|ECB unlikely to end sterilization of SMP purchases: traders                |ECB unlikely to end sterilization of SMP purchases: traders                |\n",
            "|EU's half-baked bank union could work                                      |EU's half-baked bank union could work                                      |\n",
            "|Europe reaches crunch point on banking union                               |Europe reaches crunch point on banking union                               |\n",
            "|ECB FOCUS-Stronger euro drowns out ECB's message to keep rates low for  ...|ECB FOCUS-Stronger euro drowns out ECB's message to keep rates low for  ...|\n",
            "|EU aims for deal on tackling failing banks                                 |EU aims for deal on tackling failing banks                                 |\n",
            "|Forex - Pound drops to one-month lows against euro                         |Forex - Pound drops to one-month lows against euro                         |\n",
            "|Noyer Says Strong Euro Creates Unwarranted Economic Pressure               |Noyer Says Strong Euro Creates Unwarranted Economic Pressure               |\n",
            "|EU Week Ahead March 10-14: Bank Resolution, Transparency, Ukraine          |EU Week Ahead March -: Bank Resolution, Transparency, Ukraine              |\n",
            "|ECB member Noyer is 'very open to all kinds of tools'                      |ECB member Noyer is 'very open to all kinds of tools'                      |\n",
            "|Euro Anxieties Wane as Bunds Top Treasuries, Spain Debt Rallies            |Euro Anxieties Wane as Bunds Top Treasuries, Spain Debt Rallies            |\n",
            "+---------------------------------------------------------------------------+---------------------------------------------------------------------------+\n",
            "only showing top 20 rows\n",
            "\n"
          ]
        }
      ]
    },
    {
      "cell_type": "markdown",
      "source": [
        "Diviser le texte en mots"
      ],
      "metadata": {
        "id": "V9EhoUW47TpR"
      }
    },
    {
      "cell_type": "code",
      "source": [
        "regex_tokenizer = RegexTokenizer(inputCol=\"only_str\", outputCol=\"words\", pattern=\"\\\\W\")\n",
        "raw_words = regex_tokenizer.transform(title_category)"
      ],
      "metadata": {
        "id": "5c8-zur37UR4"
      },
      "execution_count": null,
      "outputs": []
    },
    {
      "cell_type": "code",
      "source": [
        "raw_words.show()"
      ],
      "metadata": {
        "colab": {
          "base_uri": "https://localhost:8080/"
        },
        "id": "TBSOy4jr7W1u",
        "outputId": "a0762df7-a60a-4138-dd2f-937d1784192a"
      },
      "execution_count": null,
      "outputs": [
        {
          "output_type": "stream",
          "name": "stdout",
          "text": [
            "+--------------------+--------+--------------------+--------------------+\n",
            "|               TITLE|CATEGORY|            only_str|               words|\n",
            "+--------------------+--------+--------------------+--------------------+\n",
            "|Fed official says...|       b|Fed official says...|[fed, official, s...|\n",
            "|Fed's Charles Plo...|       b|Fed's Charles Plo...|[fed, s, charles,...|\n",
            "|US open: Stocks f...|       b|US open: Stocks f...|[us, open, stocks...|\n",
            "|Fed risks falling...|       b|Fed risks falling...|[fed, risks, fall...|\n",
            "|Fed's Plosser: Na...|       b|Fed's Plosser: Na...|[fed, s, plosser,...|\n",
            "|Plosser: Fed May ...|       b|Plosser: Fed May ...|[plosser, fed, ma...|\n",
            "|Fed's Plosser: Ta...|       b|Fed's Plosser: Ta...|[fed, s, plosser,...|\n",
            "|Fed's Plosser exp...|       b|Fed's Plosser exp...|[fed, s, plosser,...|\n",
            "|US jobs growth la...|       b|US jobs growth la...|[us, jobs, growth...|\n",
            "|ECB unlikely to e...|       b|ECB unlikely to e...|[ecb, unlikely, t...|\n",
            "|ECB unlikely to e...|       b|ECB unlikely to e...|[ecb, unlikely, t...|\n",
            "|EU's half-baked b...|       b|EU's half-baked b...|[eu, s, half, bak...|\n",
            "|Europe reaches cr...|       b|Europe reaches cr...|[europe, reaches,...|\n",
            "|ECB FOCUS-Stronge...|       b|ECB FOCUS-Stronge...|[ecb, focus, stro...|\n",
            "|EU aims for deal ...|       b|EU aims for deal ...|[eu, aims, for, d...|\n",
            "|Forex - Pound dro...|       b|Forex - Pound dro...|[forex, pound, dr...|\n",
            "|Noyer Says Strong...|       b|Noyer Says Strong...|[noyer, says, str...|\n",
            "|EU Week Ahead Mar...|       b|EU Week Ahead Mar...|[eu, week, ahead,...|\n",
            "|ECB member Noyer ...|       b|ECB member Noyer ...|[ecb, member, noy...|\n",
            "|Euro Anxieties Wa...|       b|Euro Anxieties Wa...|[euro, anxieties,...|\n",
            "+--------------------+--------+--------------------+--------------------+\n",
            "only showing top 20 rows\n",
            "\n"
          ]
        }
      ]
    },
    {
      "cell_type": "markdown",
      "source": [
        "Supprimer les mots vides"
      ],
      "metadata": {
        "id": "4fhr6D017YZP"
      }
    },
    {
      "cell_type": "code",
      "source": [
        "remover = StopWordsRemover(inputCol=\"words\", outputCol=\"filtered\")\n",
        "words_df = remover.transform(raw_words)"
      ],
      "metadata": {
        "id": "FYhdv69T7dn9"
      },
      "execution_count": null,
      "outputs": []
    },
    {
      "cell_type": "code",
      "source": [
        "words_df.select(\"words\",\"filtered\").show(truncate=False)"
      ],
      "metadata": {
        "colab": {
          "base_uri": "https://localhost:8080/"
        },
        "id": "HzI8OcaF7iqJ",
        "outputId": "aa8bc67e-4e70-4657-fba1-80728c13caf7"
      },
      "execution_count": null,
      "outputs": [
        {
          "output_type": "stream",
          "name": "stdout",
          "text": [
            "+-------------------------------------------------------------------------------------+-------------------------------------------------------------------------------+\n",
            "|words                                                                                |filtered                                                                       |\n",
            "+-------------------------------------------------------------------------------------+-------------------------------------------------------------------------------+\n",
            "|[fed, official, says, weak, data, caused, by, weather, should, not, slow, taper]     |[fed, official, says, weak, data, caused, weather, slow, taper]                |\n",
            "|[fed, s, charles, plosser, sees, high, bar, for, change, in, pace, of, tapering]     |[fed, charles, plosser, sees, high, bar, change, pace, tapering]               |\n",
            "|[us, open, stocks, fall, after, fed, official, hints, at, accelerated, tapering]     |[us, open, stocks, fall, fed, official, hints, accelerated, tapering]          |\n",
            "|[fed, risks, falling, behind, the, curve, charles, plosser, says]                    |[fed, risks, falling, behind, curve, charles, plosser, says]                   |\n",
            "|[fed, s, plosser, nasty, weather, has, curbed, job, growth]                          |[fed, plosser, nasty, weather, curbed, job, growth]                            |\n",
            "|[plosser, fed, may, have, to, accelerate, tapering, pace]                            |[plosser, fed, may, accelerate, tapering, pace]                                |\n",
            "|[fed, s, plosser, taper, pace, may, be, too, slow]                                   |[fed, plosser, taper, pace, may, slow]                                         |\n",
            "|[fed, s, plosser, expects, us, unemployment, to, fall, to, by, the, end, of]         |[fed, plosser, expects, us, unemployment, fall, end]                           |\n",
            "|[us, jobs, growth, last, month, hit, by, weather, fed, president, charles, plosser]  |[us, jobs, growth, last, month, hit, weather, fed, president, charles, plosser]|\n",
            "|[ecb, unlikely, to, end, sterilisation, of, smp, purchases, traders]                 |[ecb, unlikely, end, sterilisation, smp, purchases, traders]                   |\n",
            "|[ecb, unlikely, to, end, sterilization, of, smp, purchases, traders]                 |[ecb, unlikely, end, sterilization, smp, purchases, traders]                   |\n",
            "|[eu, s, half, baked, bank, union, could, work]                                       |[eu, half, baked, bank, union, work]                                           |\n",
            "|[europe, reaches, crunch, point, on, banking, union]                                 |[europe, reaches, crunch, point, banking, union]                               |\n",
            "|[ecb, focus, stronger, euro, drowns, out, ecb, s, message, to, keep, rates, low, for]|[ecb, focus, stronger, euro, drowns, ecb, message, keep, rates, low]           |\n",
            "|[eu, aims, for, deal, on, tackling, failing, banks]                                  |[eu, aims, deal, tackling, failing, banks]                                     |\n",
            "|[forex, pound, drops, to, one, month, lows, against, euro]                           |[forex, pound, drops, one, month, lows, euro]                                  |\n",
            "|[noyer, says, strong, euro, creates, unwarranted, economic, pressure]                |[noyer, says, strong, euro, creates, unwarranted, economic, pressure]          |\n",
            "|[eu, week, ahead, march, bank, resolution, transparency, ukraine]                    |[eu, week, ahead, march, bank, resolution, transparency, ukraine]              |\n",
            "|[ecb, member, noyer, is, very, open, to, all, kinds, of, tools]                      |[ecb, member, noyer, open, kinds, tools]                                       |\n",
            "|[euro, anxieties, wane, as, bunds, top, treasuries, spain, debt, rallies]            |[euro, anxieties, wane, bunds, top, treasuries, spain, debt, rallies]          |\n",
            "+-------------------------------------------------------------------------------------+-------------------------------------------------------------------------------+\n",
            "only showing top 20 rows\n",
            "\n"
          ]
        }
      ]
    },
    {
      "cell_type": "markdown",
      "source": [
        "Permet d'encoder la colonne de catégorie en une colonne d'indices de catégorie"
      ],
      "metadata": {
        "id": "K8wto4NG7nui"
      }
    },
    {
      "cell_type": "code",
      "source": [
        "indexer = StringIndexer(inputCol=\"CATEGORY\", outputCol=\"categoryIndex\")\n",
        "feature_data = indexer.fit(words_df).transform(words_df)"
      ],
      "metadata": {
        "id": "z2bNaMbT7oIt"
      },
      "execution_count": null,
      "outputs": []
    },
    {
      "cell_type": "code",
      "source": [
        "feature_data.select(\"CATEGORY\",\"categoryIndex\").show()"
      ],
      "metadata": {
        "colab": {
          "base_uri": "https://localhost:8080/"
        },
        "id": "fCzB1-vZ7uSB",
        "outputId": "0d891de5-7778-46ca-bb06-7dc597f6e6b2"
      },
      "execution_count": null,
      "outputs": [
        {
          "output_type": "stream",
          "name": "stdout",
          "text": [
            "+--------+-------------+\n",
            "|CATEGORY|categoryIndex|\n",
            "+--------+-------------+\n",
            "|       b|          1.0|\n",
            "|       b|          1.0|\n",
            "|       b|          1.0|\n",
            "|       b|          1.0|\n",
            "|       b|          1.0|\n",
            "|       b|          1.0|\n",
            "|       b|          1.0|\n",
            "|       b|          1.0|\n",
            "|       b|          1.0|\n",
            "|       b|          1.0|\n",
            "|       b|          1.0|\n",
            "|       b|          1.0|\n",
            "|       b|          1.0|\n",
            "|       b|          1.0|\n",
            "|       b|          1.0|\n",
            "|       b|          1.0|\n",
            "|       b|          1.0|\n",
            "|       b|          1.0|\n",
            "|       b|          1.0|\n",
            "|       b|          1.0|\n",
            "+--------+-------------+\n",
            "only showing top 20 rows\n",
            "\n"
          ]
        }
      ]
    },
    {
      "cell_type": "markdown",
      "source": [
        "Conversion du texte en vecteurs de nombres de token."
      ],
      "metadata": {
        "id": "mHGFkKLH721S"
      }
    },
    {
      "cell_type": "code",
      "source": [
        "from pyspark.ml.feature import CountVectorizer\n",
        "\n",
        "# Assuming 'words_label_index' is defined or imported correctly\n",
        "cv = CountVectorizer(inputCol=\"filtered\", outputCol=\"features\")\n",
        "model = cv.fit(feature_data)\n",
        "countVectorizer_features = model.transform(feature_data)\n"
      ],
      "metadata": {
        "id": "XIJgGl3C75qz"
      },
      "execution_count": null,
      "outputs": []
    },
    {
      "cell_type": "markdown",
      "source": [
        "division data à train et test set"
      ],
      "metadata": {
        "id": "t_3nOF8w7-SI"
      }
    },
    {
      "cell_type": "code",
      "source": [
        "(trainingData, testData) = countVectorizer_features.randomSplit([0.8, 0.2],seed = 11)"
      ],
      "metadata": {
        "id": "qgRjBcOm79r-"
      },
      "execution_count": null,
      "outputs": []
    },
    {
      "cell_type": "markdown",
      "source": [
        "## NaiveBayes"
      ],
      "metadata": {
        "id": "Zqi2HYLe8L_J"
      }
    },
    {
      "cell_type": "code",
      "source": [
        "nb = NaiveBayes(modelType=\"multinomial\",labelCol=\"categoryIndex\", featuresCol=\"features\")\n",
        "nbModel = nb.fit(trainingData)\n",
        "nb_predictions = nbModel.transform(testData)"
      ],
      "metadata": {
        "id": "AE8NDPV28PQ8"
      },
      "execution_count": null,
      "outputs": []
    },
    {
      "cell_type": "code",
      "source": [
        "nb_predictions.select(\"prediction\", \"categoryIndex\", \"features\").show(5)"
      ],
      "metadata": {
        "colab": {
          "base_uri": "https://localhost:8080/"
        },
        "id": "9w9U1_6-8SSS",
        "outputId": "40711e43-6336-4e4a-ee8e-077d91afbc80"
      },
      "execution_count": null,
      "outputs": [
        {
          "output_type": "stream",
          "name": "stdout",
          "text": [
            "+----------+-------------+--------------------+\n",
            "|prediction|categoryIndex|            features|\n",
            "+----------+-------------+--------------------+\n",
            "|       1.0|          0.0|(49043,[15,22,26,...|\n",
            "|       0.0|         20.0|(49043,[74,113,39...|\n",
            "|       0.0|          0.0|(49043,[21,50,51,...|\n",
            "|       0.0|          0.0|(49043,[21,50,62,...|\n",
            "|       0.0|          0.0|(49043,[6,21,22,5...|\n",
            "+----------+-------------+--------------------+\n",
            "only showing top 5 rows\n",
            "\n"
          ]
        }
      ]
    },
    {
      "cell_type": "code",
      "source": [
        "evaluator = MulticlassClassificationEvaluator(labelCol=\"categoryIndex\", predictionCol=\"prediction\", metricName=\"accuracy\")\n",
        "nb_accuracy = evaluator.evaluate(nb_predictions)\n",
        "print(\"Accuracy of NaiveBayes is = %g\"% (nb_accuracy))\n",
        "print(\"Test Error of NaiveBayes = %g \" % (1.0 - nb_accuracy))"
      ],
      "metadata": {
        "colab": {
          "base_uri": "https://localhost:8080/"
        },
        "id": "PgErvJKu8Wv9",
        "outputId": "e28405f3-9444-4af8-ad3c-a641043e1acd"
      },
      "execution_count": null,
      "outputs": [
        {
          "output_type": "stream",
          "name": "stdout",
          "text": [
            "Accuracy of NaiveBayes is = 0.926257\n",
            "Test Error of NaiveBayes = 0.0737432 \n"
          ]
        }
      ]
    }
  ]
}